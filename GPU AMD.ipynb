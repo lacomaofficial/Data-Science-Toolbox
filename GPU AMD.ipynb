{
 "cells": [
  {
   "cell_type": "code",
   "execution_count": 1,
   "metadata": {},
   "outputs": [
    {
     "name": "stdout",
     "output_type": "stream",
     "text": [
      "DirectML device available: True\n",
      "Device name: AMD GPU\n"
     ]
    }
   ],
   "source": [
    "import torch\n",
    "import torch_directml\n",
    "\n",
    "# Select DirectML device\n",
    "device = torch_directml.device()\n",
    "\n",
    "# Check if DirectML device is available\n",
    "print(\"DirectML device available:\", device is not None)\n",
    "\n",
    "# Print device name\n",
    "if device is not None:\n",
    "    print(\"Device name:\", \"AMD GPU\")\n"
   ]
  }
 ],
 "metadata": {
  "kernelspec": {
   "display_name": "base",
   "language": "python",
   "name": "python3"
  },
  "language_info": {
   "codemirror_mode": {
    "name": "ipython",
    "version": 3
   },
   "file_extension": ".py",
   "mimetype": "text/x-python",
   "name": "python",
   "nbconvert_exporter": "python",
   "pygments_lexer": "ipython3",
   "version": "3.11.7"
  }
 },
 "nbformat": 4,
 "nbformat_minor": 2
}
